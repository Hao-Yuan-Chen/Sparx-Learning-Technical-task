{
 "cells": [
  {
   "cell_type": "code",
   "execution_count": 1,
   "id": "1728ad97-d120-40f3-88c6-0fc487c01930",
   "metadata": {},
   "outputs": [],
   "source": [
    "import pandas as pd\n",
    "import matplotlib.pyplot as plt\n",
    "import seaborn as sns"
   ]
  },
  {
   "cell_type": "code",
   "execution_count": 2,
   "id": "60c674a1-f500-43ad-b8cf-9b1f69d2c76f",
   "metadata": {},
   "outputs": [],
   "source": [
    "assessment_df = pd.read_csv(r\"Sparx Learning_task_data/task_data/task_qla_df.csv\")\n",
    "homework_df = pd.read_feather(r\"Sparx Learning_task_data/task_data/task_tia_df.feather\")"
   ]
  },
  {
   "cell_type": "markdown",
   "id": "876146e4-e89b-4880-95db-9b026de77141",
   "metadata": {},
   "source": [
    "## Exploratory Data Analysis"
   ]
  },
  {
   "cell_type": "code",
   "execution_count": 3,
   "id": "a9c00475-3e89-457e-a5f1-979712e53489",
   "metadata": {},
   "outputs": [
    {
     "name": "stdout",
     "output_type": "stream",
     "text": [
      "assessment_df shape: (5827, 11)\n",
      "homework_df shape: (459115, 14)\n"
     ]
    }
   ],
   "source": [
    "print(\"assessment_df shape: \" + str(assessment_df.shape))\n",
    "print(\"homework_df shape: \" + str(homework_df.shape))"
   ]
  },
  {
   "cell_type": "code",
   "execution_count": 4,
   "id": "88f6f4ba-8ae5-410d-813c-751fbf5014a4",
   "metadata": {},
   "outputs": [
    {
     "data": {
      "text/html": [
       "<div>\n",
       "<style scoped>\n",
       "    .dataframe tbody tr th:only-of-type {\n",
       "        vertical-align: middle;\n",
       "    }\n",
       "\n",
       "    .dataframe tbody tr th {\n",
       "        vertical-align: top;\n",
       "    }\n",
       "\n",
       "    .dataframe thead th {\n",
       "        text-align: right;\n",
       "    }\n",
       "</style>\n",
       "<table border=\"1\" class=\"dataframe\">\n",
       "  <thead>\n",
       "    <tr style=\"text-align: right;\">\n",
       "      <th></th>\n",
       "      <th>student_id</th>\n",
       "      <th>assessment_id</th>\n",
       "      <th>assessment_name</th>\n",
       "      <th>n_questions_entered</th>\n",
       "      <th>n_questions_attempted</th>\n",
       "      <th>n_assessment_questions</th>\n",
       "      <th>absent</th>\n",
       "      <th>mark</th>\n",
       "      <th>available_marks</th>\n",
       "      <th>created</th>\n",
       "      <th>last_updated</th>\n",
       "    </tr>\n",
       "  </thead>\n",
       "  <tbody>\n",
       "    <tr>\n",
       "      <th>0</th>\n",
       "      <td>b61c4</td>\n",
       "      <td>94245</td>\n",
       "      <td>Year 7 Term 3 Assessment</td>\n",
       "      <td>36</td>\n",
       "      <td>36</td>\n",
       "      <td>36</td>\n",
       "      <td>False</td>\n",
       "      <td>34.0</td>\n",
       "      <td>60</td>\n",
       "      <td>2024-06-27 14:18:23.948111+00:00</td>\n",
       "      <td>2024-06-27 14:22:34.230140+00:00</td>\n",
       "    </tr>\n",
       "    <tr>\n",
       "      <th>1</th>\n",
       "      <td>d47b3</td>\n",
       "      <td>94245</td>\n",
       "      <td>Year 7 Term 3 Assessment</td>\n",
       "      <td>36</td>\n",
       "      <td>36</td>\n",
       "      <td>36</td>\n",
       "      <td>False</td>\n",
       "      <td>37.0</td>\n",
       "      <td>60</td>\n",
       "      <td>2024-07-08 13:52:46.036772+00:00</td>\n",
       "      <td>2024-07-08 14:24:42.552651+00:00</td>\n",
       "    </tr>\n",
       "    <tr>\n",
       "      <th>2</th>\n",
       "      <td>01093</td>\n",
       "      <td>94245</td>\n",
       "      <td>Year 7 Term 3 Assessment</td>\n",
       "      <td>36</td>\n",
       "      <td>36</td>\n",
       "      <td>36</td>\n",
       "      <td>False</td>\n",
       "      <td>42.0</td>\n",
       "      <td>60</td>\n",
       "      <td>2024-07-03 08:08:21.592102+00:00</td>\n",
       "      <td>2024-07-03 08:22:59.515326+00:00</td>\n",
       "    </tr>\n",
       "    <tr>\n",
       "      <th>3</th>\n",
       "      <td>2a270</td>\n",
       "      <td>94245</td>\n",
       "      <td>Year 7 Term 3 Assessment</td>\n",
       "      <td>36</td>\n",
       "      <td>36</td>\n",
       "      <td>36</td>\n",
       "      <td>False</td>\n",
       "      <td>27.0</td>\n",
       "      <td>60</td>\n",
       "      <td>2024-07-04 07:52:38.344720+00:00</td>\n",
       "      <td>2024-07-04 08:21:34.395024+00:00</td>\n",
       "    </tr>\n",
       "    <tr>\n",
       "      <th>4</th>\n",
       "      <td>24de5</td>\n",
       "      <td>94245</td>\n",
       "      <td>Year 7 Term 3 Assessment</td>\n",
       "      <td>36</td>\n",
       "      <td>36</td>\n",
       "      <td>36</td>\n",
       "      <td>False</td>\n",
       "      <td>37.0</td>\n",
       "      <td>60</td>\n",
       "      <td>2024-07-13 18:57:19.360425+00:00</td>\n",
       "      <td>2024-07-13 19:30:58.809699+00:00</td>\n",
       "    </tr>\n",
       "  </tbody>\n",
       "</table>\n",
       "</div>"
      ],
      "text/plain": [
       "  student_id assessment_id           assessment_name  n_questions_entered  \\\n",
       "0      b61c4         94245  Year 7 Term 3 Assessment                   36   \n",
       "1      d47b3         94245  Year 7 Term 3 Assessment                   36   \n",
       "2      01093         94245  Year 7 Term 3 Assessment                   36   \n",
       "3      2a270         94245  Year 7 Term 3 Assessment                   36   \n",
       "4      24de5         94245  Year 7 Term 3 Assessment                   36   \n",
       "\n",
       "   n_questions_attempted  n_assessment_questions  absent  mark  \\\n",
       "0                     36                      36   False  34.0   \n",
       "1                     36                      36   False  37.0   \n",
       "2                     36                      36   False  42.0   \n",
       "3                     36                      36   False  27.0   \n",
       "4                     36                      36   False  37.0   \n",
       "\n",
       "   available_marks                           created  \\\n",
       "0               60  2024-06-27 14:18:23.948111+00:00   \n",
       "1               60  2024-07-08 13:52:46.036772+00:00   \n",
       "2               60  2024-07-03 08:08:21.592102+00:00   \n",
       "3               60  2024-07-04 07:52:38.344720+00:00   \n",
       "4               60  2024-07-13 18:57:19.360425+00:00   \n",
       "\n",
       "                       last_updated  \n",
       "0  2024-06-27 14:22:34.230140+00:00  \n",
       "1  2024-07-08 14:24:42.552651+00:00  \n",
       "2  2024-07-03 08:22:59.515326+00:00  \n",
       "3  2024-07-04 08:21:34.395024+00:00  \n",
       "4  2024-07-13 19:30:58.809699+00:00  "
      ]
     },
     "metadata": {},
     "output_type": "display_data"
    }
   ],
   "source": [
    "display(assessment_df.head())"
   ]
  },
  {
   "cell_type": "code",
   "execution_count": 5,
   "id": "62918607-677c-4127-b2c6-04bab542aeb8",
   "metadata": {},
   "outputs": [
    {
     "data": {
      "text/html": [
       "<div>\n",
       "<style scoped>\n",
       "    .dataframe tbody tr th:only-of-type {\n",
       "        vertical-align: middle;\n",
       "    }\n",
       "\n",
       "    .dataframe tbody tr th {\n",
       "        vertical-align: top;\n",
       "    }\n",
       "\n",
       "    .dataframe thead th {\n",
       "        text-align: right;\n",
       "    }\n",
       "</style>\n",
       "<table border=\"1\" class=\"dataframe\">\n",
       "  <thead>\n",
       "    <tr style=\"text-align: right;\">\n",
       "      <th></th>\n",
       "      <th>index</th>\n",
       "      <th>student_id</th>\n",
       "      <th>package_id</th>\n",
       "      <th>first_start_time</th>\n",
       "      <th>last_start_time</th>\n",
       "      <th>task_index</th>\n",
       "      <th>task_item_index</th>\n",
       "      <th>assigned_number_homeworks_ago</th>\n",
       "      <th>learning_unit_id</th>\n",
       "      <th>question_id</th>\n",
       "      <th>n_times_prior_correct</th>\n",
       "      <th>summary</th>\n",
       "      <th>time_to_first_correct</th>\n",
       "      <th>video_time</th>\n",
       "    </tr>\n",
       "  </thead>\n",
       "  <tbody>\n",
       "    <tr>\n",
       "      <th>0</th>\n",
       "      <td>1100672</td>\n",
       "      <td>f6105</td>\n",
       "      <td>081b0</td>\n",
       "      <td>2025-04-06 21:08:53.567000+00:00</td>\n",
       "      <td>2025-04-06 21:09:55.161000+00:00</td>\n",
       "      <td>1</td>\n",
       "      <td>3</td>\n",
       "      <td>0</td>\n",
       "      <td>ecbb8</td>\n",
       "      <td>55587</td>\n",
       "      <td>0</td>\n",
       "      <td>WWC</td>\n",
       "      <td>64.619</td>\n",
       "      <td>0.0</td>\n",
       "    </tr>\n",
       "    <tr>\n",
       "      <th>1</th>\n",
       "      <td>4786</td>\n",
       "      <td>f6105</td>\n",
       "      <td>efdbe</td>\n",
       "      <td>2024-06-02 16:50:04.338000+00:00</td>\n",
       "      <td>2024-06-14 16:27:20.083000+00:00</td>\n",
       "      <td>3</td>\n",
       "      <td>3</td>\n",
       "      <td>0</td>\n",
       "      <td>48303</td>\n",
       "      <td>7477a</td>\n",
       "      <td>0</td>\n",
       "      <td>AA</td>\n",
       "      <td>NaN</td>\n",
       "      <td>0.0</td>\n",
       "    </tr>\n",
       "    <tr>\n",
       "      <th>2</th>\n",
       "      <td>340068</td>\n",
       "      <td>f6105</td>\n",
       "      <td>b8685</td>\n",
       "      <td>2025-03-09 17:03:30.877000+00:00</td>\n",
       "      <td>2025-03-09 17:06:44.174000+00:00</td>\n",
       "      <td>1</td>\n",
       "      <td>4</td>\n",
       "      <td>0</td>\n",
       "      <td>4a12e</td>\n",
       "      <td>0a175</td>\n",
       "      <td>0</td>\n",
       "      <td>AWC</td>\n",
       "      <td>91.804</td>\n",
       "      <td>0.0</td>\n",
       "    </tr>\n",
       "    <tr>\n",
       "      <th>3</th>\n",
       "      <td>135582</td>\n",
       "      <td>f6105</td>\n",
       "      <td>431d6</td>\n",
       "      <td>NaT</td>\n",
       "      <td>NaT</td>\n",
       "      <td>5</td>\n",
       "      <td>5</td>\n",
       "      <td>10</td>\n",
       "      <td>d26a1</td>\n",
       "      <td>af8ef</td>\n",
       "      <td>0</td>\n",
       "      <td>None</td>\n",
       "      <td>NaN</td>\n",
       "      <td>NaN</td>\n",
       "    </tr>\n",
       "    <tr>\n",
       "      <th>4</th>\n",
       "      <td>288247</td>\n",
       "      <td>f6105</td>\n",
       "      <td>772e9</td>\n",
       "      <td>2025-03-04 19:40:50.862000+00:00</td>\n",
       "      <td>2025-03-04 19:41:17.004000+00:00</td>\n",
       "      <td>5</td>\n",
       "      <td>2</td>\n",
       "      <td>10</td>\n",
       "      <td>98957</td>\n",
       "      <td>3c1ee</td>\n",
       "      <td>2</td>\n",
       "      <td>AC</td>\n",
       "      <td>32.449</td>\n",
       "      <td>0.0</td>\n",
       "    </tr>\n",
       "  </tbody>\n",
       "</table>\n",
       "</div>"
      ],
      "text/plain": [
       "     index student_id package_id                 first_start_time  \\\n",
       "0  1100672      f6105      081b0 2025-04-06 21:08:53.567000+00:00   \n",
       "1     4786      f6105      efdbe 2024-06-02 16:50:04.338000+00:00   \n",
       "2   340068      f6105      b8685 2025-03-09 17:03:30.877000+00:00   \n",
       "3   135582      f6105      431d6                              NaT   \n",
       "4   288247      f6105      772e9 2025-03-04 19:40:50.862000+00:00   \n",
       "\n",
       "                   last_start_time  task_index  task_item_index  \\\n",
       "0 2025-04-06 21:09:55.161000+00:00           1                3   \n",
       "1 2024-06-14 16:27:20.083000+00:00           3                3   \n",
       "2 2025-03-09 17:06:44.174000+00:00           1                4   \n",
       "3                              NaT           5                5   \n",
       "4 2025-03-04 19:41:17.004000+00:00           5                2   \n",
       "\n",
       "   assigned_number_homeworks_ago learning_unit_id question_id  \\\n",
       "0                              0            ecbb8       55587   \n",
       "1                              0            48303       7477a   \n",
       "2                              0            4a12e       0a175   \n",
       "3                             10            d26a1       af8ef   \n",
       "4                             10            98957       3c1ee   \n",
       "\n",
       "   n_times_prior_correct summary  time_to_first_correct  video_time  \n",
       "0                      0     WWC                 64.619         0.0  \n",
       "1                      0      AA                    NaN         0.0  \n",
       "2                      0     AWC                 91.804         0.0  \n",
       "3                      0    None                    NaN         NaN  \n",
       "4                      2      AC                 32.449         0.0  "
      ]
     },
     "metadata": {},
     "output_type": "display_data"
    }
   ],
   "source": [
    "display(homework_df.head())"
   ]
  },
  {
   "cell_type": "markdown",
   "id": "2c2d385b-3408-4c71-9d97-136b004dc628",
   "metadata": {},
   "source": [
    "### Unique Values"
   ]
  },
  {
   "cell_type": "code",
   "execution_count": 6,
   "id": "e6749d83-8285-434c-afaf-73f2d298ea28",
   "metadata": {},
   "outputs": [
    {
     "data": {
      "text/plain": [
       "student_id                1400\n",
       "assessment_id               11\n",
       "assessment_name             11\n",
       "n_questions_entered         17\n",
       "n_questions_attempted       46\n",
       "n_assessment_questions       7\n",
       "absent                       2\n",
       "mark                        61\n",
       "available_marks              1\n",
       "created                   3341\n",
       "last_updated              5827\n",
       "dtype: int64"
      ]
     },
     "execution_count": 6,
     "metadata": {},
     "output_type": "execute_result"
    }
   ],
   "source": [
    "assessment_df.nunique()"
   ]
  },
  {
   "cell_type": "code",
   "execution_count": 7,
   "id": "3ca6c7c7-9217-4ca4-bd53-12818d6cc1b6",
   "metadata": {},
   "outputs": [
    {
     "data": {
      "text/plain": [
       "index                            459115\n",
       "student_id                         1394\n",
       "package_id                        38285\n",
       "first_start_time                 403899\n",
       "last_start_time                  403899\n",
       "task_index                            6\n",
       "task_item_index                      16\n",
       "assigned_number_homeworks_ago        62\n",
       "learning_unit_id                   1241\n",
       "question_id                        7055\n",
       "n_times_prior_correct                23\n",
       "summary                            7932\n",
       "time_to_first_correct            162430\n",
       "video_time                        36919\n",
       "dtype: int64"
      ]
     },
     "execution_count": 7,
     "metadata": {},
     "output_type": "execute_result"
    }
   ],
   "source": [
    "homework_df.nunique()"
   ]
  },
  {
   "cell_type": "markdown",
   "id": "8393b778-f9c6-47a9-8f0c-db00a0b97d30",
   "metadata": {},
   "source": [
    "Dropping available_marks because there is only one value so is not very useful."
   ]
  },
  {
   "cell_type": "code",
   "execution_count": 8,
   "id": "93cc9ef6-5411-453d-bf84-37244f1c159a",
   "metadata": {},
   "outputs": [],
   "source": [
    "assessment_df.drop(columns=['available_marks'], inplace=True)"
   ]
  },
  {
   "cell_type": "markdown",
   "id": "0771f8b0-e2a5-4902-be22-09dfcbac8224",
   "metadata": {},
   "source": [
    "### Duplicates"
   ]
  },
  {
   "cell_type": "markdown",
   "id": "637be317-22c4-41c9-9f34-559475c4eb5f",
   "metadata": {},
   "source": [
    "#### Check"
   ]
  },
  {
   "cell_type": "code",
   "execution_count": 9,
   "id": "db9f12b9-1ca2-45b0-9c42-4d0e9328f936",
   "metadata": {},
   "outputs": [
    {
     "name": "stdout",
     "output_type": "stream",
     "text": [
      "Index: False\n",
      "All Columns: False\n"
     ]
    }
   ],
   "source": [
    "print(\"Index: \" + str(assessment_df.index.duplicated().any()))\n",
    "print(\"All Columns: \" + str(assessment_df.duplicated().any()))"
   ]
  },
  {
   "cell_type": "code",
   "execution_count": 10,
   "id": "7a2f3638-b8b1-4964-b1f6-601832f6b662",
   "metadata": {},
   "outputs": [
    {
     "name": "stdout",
     "output_type": "stream",
     "text": [
      "Index: False\n",
      "Column named index: False\n",
      "All Columns: False\n"
     ]
    }
   ],
   "source": [
    "print(\"Index: \" + str(homework_df.index.duplicated().any()))\n",
    "print(\"Column named index: \" + str(homework_df.duplicated(subset=['index']).any()))\n",
    "print(\"All Columns: \" + str(homework_df.duplicated().any()))"
   ]
  },
  {
   "cell_type": "markdown",
   "id": "fa884458-ca59-485c-8072-37d3f39ae513",
   "metadata": {},
   "source": [
    "No need to drop rows due to duplicates because no whole row duplicates. My understanding is that some individual columns, such as student_id can have duplicates because one student can have more than one homework and more than one assessment.\\\n",
    "Dropping column named index however, because there is no mention of this in the data dictionary and the column itself does not appear to have any duplicates. In addition, the index values seem to go much higher than the number of rows in the student assessment data so I don't think I can use it for joining to that dataframe either if I was to try to join them."
   ]
  },
  {
   "cell_type": "code",
   "execution_count": 11,
   "id": "4f9f70b3-0217-4bd1-a2ce-a300a95961cf",
   "metadata": {},
   "outputs": [],
   "source": [
    "homework_df.drop(columns=['index'], inplace=True)"
   ]
  },
  {
   "cell_type": "markdown",
   "id": "dd2dc9b6-7d73-4001-ab0a-6a84b9ccbb65",
   "metadata": {},
   "source": [
    "### Outliers"
   ]
  },
  {
   "cell_type": "markdown",
   "id": "25572ff9-23b2-4eca-8e6f-38390788c51a",
   "metadata": {},
   "source": [
    "#### Assessment"
   ]
  },
  {
   "cell_type": "markdown",
   "id": "9886a344-b007-4180-ad90-f97a25343398",
   "metadata": {},
   "source": [
    "Check for 'not attempted' values in n_questions_entered."
   ]
  },
  {
   "cell_type": "code",
   "execution_count": 12,
   "id": "6d12f221-f066-4880-b048-b86cab042583",
   "metadata": {},
   "outputs": [
    {
     "data": {
      "text/html": [
       "<div>\n",
       "<style scoped>\n",
       "    .dataframe tbody tr th:only-of-type {\n",
       "        vertical-align: middle;\n",
       "    }\n",
       "\n",
       "    .dataframe tbody tr th {\n",
       "        vertical-align: top;\n",
       "    }\n",
       "\n",
       "    .dataframe thead th {\n",
       "        text-align: right;\n",
       "    }\n",
       "</style>\n",
       "<table border=\"1\" class=\"dataframe\">\n",
       "  <thead>\n",
       "    <tr style=\"text-align: right;\">\n",
       "      <th></th>\n",
       "      <th>student_id</th>\n",
       "      <th>assessment_id</th>\n",
       "      <th>assessment_name</th>\n",
       "      <th>n_questions_entered</th>\n",
       "      <th>n_questions_attempted</th>\n",
       "      <th>n_assessment_questions</th>\n",
       "      <th>absent</th>\n",
       "      <th>mark</th>\n",
       "      <th>created</th>\n",
       "      <th>last_updated</th>\n",
       "    </tr>\n",
       "  </thead>\n",
       "  <tbody>\n",
       "  </tbody>\n",
       "</table>\n",
       "</div>"
      ],
      "text/plain": [
       "Empty DataFrame\n",
       "Columns: [student_id, assessment_id, assessment_name, n_questions_entered, n_questions_attempted, n_assessment_questions, absent, mark, created, last_updated]\n",
       "Index: []"
      ]
     },
     "execution_count": 12,
     "metadata": {},
     "output_type": "execute_result"
    }
   ],
   "source": [
    "assessment_df[assessment_df['n_questions_entered']=='not attempted']"
   ]
  },
  {
   "cell_type": "markdown",
   "id": "38e50b90-466e-4955-8ed8-caedf8fe0621",
   "metadata": {},
   "source": [
    "The values outside the whiskers of the boxplot seem acceptable because some students seem to have attempted few questions so it makes sense to me if the number of questions entered is also low."
   ]
  },
  {
   "cell_type": "code",
   "execution_count": 13,
   "id": "b59ce58a-8d19-4b14-b933-407253b6b119",
   "metadata": {},
   "outputs": [
    {
     "data": {
      "image/png": "[encoded data removed]",
      "text/plain": [
       "<Figure size 640x480 with 1 Axes>"
      ]
     },
     "metadata": {},
     "output_type": "display_data"
    }
   ],
   "source": [
    "sns.boxplot(data=assessment_df[['n_questions_entered','n_questions_attempted','n_assessment_questions','mark']])\n",
    "plt.xticks(rotation=45)\n",
    "plt.show()"
   ]
  },
  {
   "cell_type": "markdown",
   "id": "c26ae0af-88c3-425c-be9c-eeaf65a9f9a4",
   "metadata": {},
   "source": [
    "#### Homework"
   ]
  },
  {
   "cell_type": "code",
   "execution_count": 14,
   "id": "f5b32a7a-4cad-42fa-a49c-c2f0405db9c9",
   "metadata": {
    "scrolled": true
   },
   "outputs": [
    {
     "data": {
      "image/png": "[encoded data removed]",
      "text/plain": [
       "<Figure size 640x480 with 1 Axes>"
      ]
     },
     "metadata": {},
     "output_type": "display_data"
    },
    {
     "data": {
      "image/png": "[encoded data removed]",
      "text/plain": [
       "<Figure size 640x480 with 1 Axes>"
      ]
     },
     "metadata": {},
     "output_type": "display_data"
    },
    {
     "data": {
      "image/png": "[encoded data removed]",
      "text/plain": [
       "<Figure size 640x480 with 1 Axes>"
      ]
     },
     "metadata": {},
     "output_type": "display_data"
    },
    {
     "data": {
      "image/png": "[encoded data removed]",
      "text/plain": [
       "<Figure size 640x480 with 1 Axes>"
      ]
     },
     "metadata": {},
     "output_type": "display_data"
    }
   ],
   "source": [
    "for col in homework_df.loc[:,['assigned_number_homeworks_ago','n_times_prior_correct','time_to_first_correct','video_time']].columns:\n",
    "    fig, ax = plt.subplots()\n",
    "    sns.boxplot(data=homework_df,y=col,ax=ax)\n",
    "    plt.show()"
   ]
  },
  {
   "cell_type": "markdown",
   "id": "a2116661-6389-4206-a970-e010e8e420ab",
   "metadata": {},
   "source": [
    "Seems some students took a much longer to answer a question than others but seems this is explained by the longer supporting video time so am not sure these rows should be altered - perhaps a question is to understand why this particular student took such a long time to answer this question."
   ]
  },
  {
   "cell_type": "code",
   "execution_count": 15,
   "id": "b4008c97-ba9f-41fd-bdf0-941a7386a265",
   "metadata": {},
   "outputs": [
    {
     "data": {
      "text/html": [
       "<div>\n",
       "<style scoped>\n",
       "    .dataframe tbody tr th:only-of-type {\n",
       "        vertical-align: middle;\n",
       "    }\n",
       "\n",
       "    .dataframe tbody tr th {\n",
       "        vertical-align: top;\n",
       "    }\n",
       "\n",
       "    .dataframe thead th {\n",
       "        text-align: right;\n",
       "    }\n",
       "</style>\n",
       "<table border=\"1\" class=\"dataframe\">\n",
       "  <thead>\n",
       "    <tr style=\"text-align: right;\">\n",
       "      <th></th>\n",
       "      <th>student_id</th>\n",
       "      <th>package_id</th>\n",
       "      <th>first_start_time</th>\n",
       "      <th>last_start_time</th>\n",
       "      <th>task_index</th>\n",
       "      <th>task_item_index</th>\n",
       "      <th>assigned_number_homeworks_ago</th>\n",
       "      <th>learning_unit_id</th>\n",
       "      <th>question_id</th>\n",
       "      <th>n_times_prior_correct</th>\n",
       "      <th>summary</th>\n",
       "      <th>time_to_first_correct</th>\n",
       "      <th>video_time</th>\n",
       "    </tr>\n",
       "  </thead>\n",
       "  <tbody>\n",
       "    <tr>\n",
       "      <th>165378</th>\n",
       "      <td>2e69c</td>\n",
       "      <td>0e0d6</td>\n",
       "      <td>2024-10-03 16:03:49.234000+00:00</td>\n",
       "      <td>2024-10-04 15:10:48.735000+00:00</td>\n",
       "      <td>2</td>\n",
       "      <td>3</td>\n",
       "      <td>3</td>\n",
       "      <td>3658e</td>\n",
       "      <td>f49e0</td>\n",
       "      <td>1</td>\n",
       "      <td>VWVWWAVC</td>\n",
       "      <td>10552.340</td>\n",
       "      <td>10458.702</td>\n",
       "    </tr>\n",
       "    <tr>\n",
       "      <th>388657</th>\n",
       "      <td>1433e</td>\n",
       "      <td>63ee5</td>\n",
       "      <td>2025-01-11 08:29:26.569000+00:00</td>\n",
       "      <td>2025-01-12 08:28:49.543000+00:00</td>\n",
       "      <td>1</td>\n",
       "      <td>1</td>\n",
       "      <td>0</td>\n",
       "      <td>141bc</td>\n",
       "      <td>6d17e</td>\n",
       "      <td>2</td>\n",
       "      <td>VWVAVWVWVC</td>\n",
       "      <td>16742.181</td>\n",
       "      <td>16295.770</td>\n",
       "    </tr>\n",
       "  </tbody>\n",
       "</table>\n",
       "</div>"
      ],
      "text/plain": [
       "       student_id package_id                 first_start_time  \\\n",
       "165378      2e69c      0e0d6 2024-10-03 16:03:49.234000+00:00   \n",
       "388657      1433e      63ee5 2025-01-11 08:29:26.569000+00:00   \n",
       "\n",
       "                        last_start_time  task_index  task_item_index  \\\n",
       "165378 2024-10-04 15:10:48.735000+00:00           2                3   \n",
       "388657 2025-01-12 08:28:49.543000+00:00           1                1   \n",
       "\n",
       "        assigned_number_homeworks_ago learning_unit_id question_id  \\\n",
       "165378                              3            3658e       f49e0   \n",
       "388657                              0            141bc       6d17e   \n",
       "\n",
       "        n_times_prior_correct     summary  time_to_first_correct  video_time  \n",
       "165378                      1    VWVWWAVC              10552.340   10458.702  \n",
       "388657                      2  VWVAVWVWVC              16742.181   16295.770  "
      ]
     },
     "execution_count": 15,
     "metadata": {},
     "output_type": "execute_result"
    }
   ],
   "source": [
    "homework_df[homework_df['time_to_first_correct']>10000]"
   ]
  },
  {
   "cell_type": "markdown",
   "id": "cafeb0a5-6cf0-45b6-a557-6ba45a6abd7b",
   "metadata": {},
   "source": [
    "## Question 1"
   ]
  },
  {
   "cell_type": "markdown",
   "id": "1a67ca6e-c745-4b92-996e-b05c0afe121c",
   "metadata": {},
   "source": [
    "Approach through obtaining the list of unique student ids for each dataset and merge together using pandas DataFrame."
   ]
  },
  {
   "cell_type": "code",
   "execution_count": 16,
   "id": "6d8fd290-9d7d-40a1-8f8b-f6b1ef831e5f",
   "metadata": {},
   "outputs": [
    {
     "name": "stdout",
     "output_type": "stream",
     "text": [
      "Number distinct students with both assessment and activity data: 1394\n"
     ]
    }
   ],
   "source": [
    "assessment_df_unique_student_ids = pd.DataFrame(assessment_df['student_id'].unique(), columns=['assessment_unique_student_id'])\n",
    "homework_df_unique_student_ids = pd.DataFrame(homework_df['student_id'].unique(), columns=['homework_unique_student_id'])\n",
    "print(\"Number distinct students with both assessment and activity data: \" + \n",
    "      str(assessment_df_unique_student_ids.merge(homework_df_unique_student_ids, left_on='assessment_unique_student_id',\n",
    "                                                 right_on='homework_unique_student_id').nunique().iloc[0]))"
   ]
  },
  {
   "cell_type": "markdown",
   "id": "33845b7d-41ce-4f0e-a122-9b89617e78a7",
   "metadata": {},
   "source": [
    "## Question 2"
   ]
  },
  {
   "cell_type": "markdown",
   "id": "9b4e51e4-0cdf-4504-b631-197f273bf10b",
   "metadata": {},
   "source": [
    "Assuming 'Completed' refers to the students that attempted all questions in the assessment and order tests were taken follows that of 'Created' column."
   ]
  },
  {
   "cell_type": "code",
   "execution_count": 23,
   "id": "7c142f5a-f8d1-4a39-bbd6-32c255b7bb81",
   "metadata": {},
   "outputs": [
    {
     "data": {
      "text/plain": [
       "student_id\n",
       "00587   -7.000000\n",
       "00729   -7.500000\n",
       "00b29   -1.000000\n",
       "00b3d   -2.000000\n",
       "00bfd   -8.500000\n",
       "           ...   \n",
       "fe995   -3.000000\n",
       "fead1   -2.250000\n",
       "feb72   -2.333333\n",
       "ff9df   -1.750000\n",
       "ffc5d    0.200000\n",
       "Name: mark_diff, Length: 1360, dtype: float64"
      ]
     },
     "metadata": {},
     "output_type": "display_data"
    }
   ],
   "source": [
    "completed_assessments_df = assessment_df[assessment_df['n_questions_attempted']==assessment_df['n_assessment_questions']]\n",
    "student_ids_with_two_or_more_completions = (completed_assessments_df.groupby('student_id')['assessment_id'].count()>=2).index\n",
    "two_or_more_completions_df = assessment_df[assessment_df['student_id'].isin(student_ids_with_two_or_more_completions)].copy(deep=True)\n",
    "two_or_more_completions_df['mark_diff'] = two_or_more_completions_df.sort_values(by=['created']).groupby('student_id')['mark'].diff()\n",
    "mean_mark_diff = two_or_more_completions_df.groupby('student_id')['mark_diff'].mean()\n",
    "display(mean_mark_diff)"
   ]
  },
  {
   "cell_type": "markdown",
   "id": "9a0bfb8e-7931-493a-8c33-5d0577309487",
   "metadata": {},
   "source": [
    "## Question 3"
   ]
  },
  {
   "cell_type": "code",
   "execution_count": 26,
   "id": "3275a301-b765-4bb5-a6ca-3d182c21b870",
   "metadata": {},
   "outputs": [
    {
     "data": {
      "image/png": "[encoded data removed]",
      "text/plain": [
       "<Figure size 640x480 with 1 Axes>"
      ]
     },
     "metadata": {},
     "output_type": "display_data"
    }
   ],
   "source": [
    "sns.histplot(data=mean_mark_diff)\n",
    "plt.xlabel('mean_mark_diff')\n",
    "plt.show()"
   ]
  },
  {
   "cell_type": "markdown",
   "id": "f41c02c9-3252-4759-83d7-1d7a2bf0bbec",
   "metadata": {},
   "source": [
    "## Question 4"
   ]
  },
  {
   "cell_type": "code",
   "execution_count": 28,
   "id": "7b3933b2-2d77-47c4-ac36-5ed02b25961c",
   "metadata": {},
   "outputs": [
    {
     "name": "stdout",
     "output_type": "stream",
     "text": [
      "-0.009569377990430622\n"
     ]
    }
   ],
   "source": [
    "second_mark_diff_mean = two_or_more_completions_df.sort_values(by=['created']).groupby('student_id').head(2)['mark'].diff().mean()\n",
    "print(second_mark_diff_mean)"
   ]
  }
 ],
 "metadata": {
  "kernelspec": {
   "display_name": "Python 3 (ipykernel)",
   "language": "python",
   "name": "python3"
  },
  "language_info": {
   "codemirror_mode": {
    "name": "ipython",
    "version": 3
   },
   "file_extension": ".py",
   "mimetype": "text/x-python",
   "name": "python",
   "nbconvert_exporter": "python",
   "pygments_lexer": "ipython3",
   "version": "3.12.4"
  }
 },
 "nbformat": 4,
 "nbformat_minor": 5
}
